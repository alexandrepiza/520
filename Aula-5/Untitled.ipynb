{
 "cells": [
  {
   "cell_type": "code",
   "execution_count": 5,
   "metadata": {},
   "outputs": [
    {
     "name": "stdout",
     "output_type": "stream",
     "text": [
      "Área de trabalho\n",
      "Documentos\n",
      "Downloads\n",
      "Imagens\n",
      "Modelos\n",
      "Música\n",
      "Público\n",
      "Vídeos\n",
      "VirtualBox VMs\n",
      "\n"
     ]
    }
   ],
   "source": [
    "# Teste\n",
    "import paramiko\n",
    "\n",
    "try:\n",
    "    con = paramiko.client.SSHClient()\n",
    "    con.load_system_host_keys()\n",
    "    con.set_missing_host_key_policy(paramiko.AutoAddPolicy())\n",
    "    con.connect('192.168.202.1',\n",
    "                    username='sabado',\n",
    "                    password='sabado')\n",
    "except Exception as e:\n",
    "    print('Erro conexão: {}'.format(e))\n",
    "    exit()\n",
    "\n",
    "stdin, stdout, stderr = con.exec_command('ls')\n",
    "if stdout.channel.recv_exit_status() == 0:\n",
    "    print(stdout.read().decode('utf-8'))\n",
    "else:\n",
    "    print(stderr.read().decode('utf-8'))"
   ]
  },
  {
   "cell_type": "code",
   "execution_count": null,
   "metadata": {},
   "outputs": [],
   "source": [
    "# teste"
   ]
  },
  {
   "cell_type": "code",
   "execution_count": null,
   "metadata": {},
   "outputs": [],
   "source": []
  }
 ],
 "metadata": {
  "kernelspec": {
   "display_name": "Python 3",
   "language": "python",
   "name": "python3"
  },
  "language_info": {
   "codemirror_mode": {
    "name": "ipython",
    "version": 3
   },
   "file_extension": ".py",
   "mimetype": "text/x-python",
   "name": "python",
   "nbconvert_exporter": "python",
   "pygments_lexer": "ipython3",
   "version": "3.5.3"
  }
 },
 "nbformat": 4,
 "nbformat_minor": 2
}
