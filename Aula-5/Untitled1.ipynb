{
 "cells": [
  {
   "cell_type": "code",
   "execution_count": 1,
   "metadata": {},
   "outputs": [
    {
     "ename": "NameError",
     "evalue": "name 'c' is not defined",
     "output_type": "error",
     "traceback": [
      "\u001b[0;31m---------------------------------------------------------------------------\u001b[0m",
      "\u001b[0;31mNameError\u001b[0m                                 Traceback (most recent call last)",
      "\u001b[0;32m<ipython-input-1-86f78ac52b62>\u001b[0m in \u001b[0;36m<module>\u001b[0;34m()\u001b[0m\n\u001b[1;32m     14\u001b[0m         \u001b[0mcell\u001b[0m\u001b[0;34m[\u001b[0m\u001b[0;34m'execution_count'\u001b[0m\u001b[0;34m]\u001b[0m \u001b[0;34m=\u001b[0m \u001b[0;32mNone\u001b[0m\u001b[0;34m\u001b[0m\u001b[0m\n\u001b[1;32m     15\u001b[0m \u001b[0;34m\u001b[0m\u001b[0m\n\u001b[0;32m---> 16\u001b[0;31m \u001b[0mc\u001b[0m\u001b[0;34m.\u001b[0m\u001b[0mFileContentsManager\u001b[0m\u001b[0;34m.\u001b[0m\u001b[0mpre_save_hook\u001b[0m \u001b[0;34m=\u001b[0m \u001b[0mscrub_output_pre_save\u001b[0m\u001b[0;34m\u001b[0m\u001b[0m\n\u001b[0m",
      "\u001b[0;31mNameError\u001b[0m: name 'c' is not defined"
     ]
    }
   ],
   "source": [
    "def scrub_output_pre_save(model, **kwargs):\n",
    "    \"\"\"scrub output before saving notebooks\"\"\"\n",
    "    # only run on notebooks\n",
    "    if model['type'] != 'notebook':\n",
    "        return\n",
    "    # only run on nbformat v4\n",
    "    if model['content']['nbformat'] != 4:\n",
    "        return\n",
    "\n",
    "    for cell in model['content']['cells']:\n",
    "        if cell['cell_type'] != 'code':\n",
    "            continue\n",
    "        cell['outputs'] = []\n",
    "        cell['execution_count'] = None\n",
    "\n",
    "c.FileContentsManager.pre_save_hook = scrub_output_pre_save"
   ]
  },
  {
   "cell_type": "code",
   "execution_count": 3,
   "metadata": {},
   "outputs": [
    {
     "ename": "NameError",
     "evalue": "name 'c' is not defined",
     "output_type": "error",
     "traceback": [
      "\u001b[0;31m---------------------------------------------------------------------------\u001b[0m",
      "\u001b[0;31mNameError\u001b[0m                                 Traceback (most recent call last)",
      "\u001b[0;32m<ipython-input-3-412acee5a2dc>\u001b[0m in \u001b[0;36m<module>\u001b[0;34m()\u001b[0m\n\u001b[1;32m     30\u001b[0m         \u001b[0mf\u001b[0m\u001b[0;34m.\u001b[0m\u001b[0mwrite\u001b[0m\u001b[0;34m(\u001b[0m\u001b[0mscript\u001b[0m\u001b[0;34m)\u001b[0m\u001b[0;34m\u001b[0m\u001b[0m\n\u001b[1;32m     31\u001b[0m \u001b[0;34m\u001b[0m\u001b[0m\n\u001b[0;32m---> 32\u001b[0;31m \u001b[0mc\u001b[0m\u001b[0;34m.\u001b[0m\u001b[0mFileContentsManager\u001b[0m\u001b[0;34m.\u001b[0m\u001b[0mpost_save_hook\u001b[0m \u001b[0;34m=\u001b[0m \u001b[0mscript_post_save\u001b[0m\u001b[0;34m\u001b[0m\u001b[0m\n\u001b[0m",
      "\u001b[0;31mNameError\u001b[0m: name 'c' is not defined"
     ]
    }
   ],
   "source": [
    "import io\n",
    "import os\n",
    "from notebook.utils import to_api_path\n",
    "\n",
    "_script_exporter = None\n",
    "\n",
    "def script_post_save(model, os_path, contents_manager, **kwargs):\n",
    "    \"\"\"convert notebooks to Python script after save with nbconvert\n",
    "\n",
    "    replaces 'jupyter notebook --script'\n",
    "    \"\"\"\n",
    "    from nbconvert.exporters.script import ScriptExporter\n",
    "\n",
    "    if model['type'] != 'notebook':\n",
    "        return\n",
    "\n",
    "    global _script_exporter\n",
    "\n",
    "    if _script_exporter is None:\n",
    "        _script_exporter = ScriptExporter(parent=contents_manager)\n",
    "\n",
    "    log = contents_manager.log\n",
    "\n",
    "    base, ext = os.path.splitext(os_path)\n",
    "    script, resources = _script_exporter.from_filename(os_path)\n",
    "    script_fname = base + resources.get('output_extension', '.txt')\n",
    "    log.info(\"Saving script /%s\", to_api_path(script_fname, contents_manager.root_dir))\n",
    "\n",
    "    with io.open(script_fname, 'w', encoding='utf-8') as f:\n",
    "        f.write(script)\n",
    "\n",
    "c.FileContentsManager.post_save_hook = script_post_save"
   ]
  },
  {
   "cell_type": "code",
   "execution_count": 4,
   "metadata": {},
   "outputs": [
    {
     "ename": "ImportError",
     "evalue": "No module named 'matplotlib'",
     "output_type": "error",
     "traceback": [
      "\u001b[0;31m---------------------------------------------------------------------------\u001b[0m",
      "\u001b[0;31mImportError\u001b[0m                               Traceback (most recent call last)",
      "\u001b[0;32m<ipython-input-4-cc0df8ca0215>\u001b[0m in \u001b[0;36m<module>\u001b[0;34m()\u001b[0m\n\u001b[0;32m----> 1\u001b[0;31m \u001b[0;32mimport\u001b[0m \u001b[0mmatplotlib\u001b[0m\u001b[0;34m.\u001b[0m\u001b[0mpyplot\u001b[0m \u001b[0;32mas\u001b[0m \u001b[0mplt\u001b[0m\u001b[0;34m\u001b[0m\u001b[0m\n\u001b[0m\u001b[1;32m      2\u001b[0m \u001b[0;34m\u001b[0m\u001b[0m\n\u001b[1;32m      3\u001b[0m \u001b[0myears\u001b[0m \u001b[0;34m=\u001b[0m \u001b[0;34m[\u001b[0m\u001b[0;36m1983\u001b[0m\u001b[0;34m,\u001b[0m \u001b[0;36m1984\u001b[0m\u001b[0;34m,\u001b[0m \u001b[0;36m1985\u001b[0m\u001b[0;34m,\u001b[0m \u001b[0;36m1986\u001b[0m\u001b[0;34m,\u001b[0m \u001b[0;36m1987\u001b[0m\u001b[0;34m]\u001b[0m\u001b[0;34m\u001b[0m\u001b[0m\n\u001b[1;32m      4\u001b[0m \u001b[0mtotal_populations\u001b[0m \u001b[0;34m=\u001b[0m \u001b[0;34m[\u001b[0m\u001b[0;36m8939007\u001b[0m\u001b[0;34m,\u001b[0m \u001b[0;36m8954518\u001b[0m\u001b[0;34m,\u001b[0m \u001b[0;36m8960387\u001b[0m\u001b[0;34m,\u001b[0m \u001b[0;36m8956741\u001b[0m\u001b[0;34m,\u001b[0m \u001b[0;36m8943721\u001b[0m\u001b[0;34m]\u001b[0m\u001b[0;34m\u001b[0m\u001b[0m\n\u001b[1;32m      5\u001b[0m \u001b[0;34m\u001b[0m\u001b[0m\n",
      "\u001b[0;31mImportError\u001b[0m: No module named 'matplotlib'"
     ]
    }
   ],
   "source": [
    "import matplotlib.pyplot as plt\n",
    "\n",
    "years = [1983, 1984, 1985, 1986, 1987]\n",
    "total_populations = [8939007, 8954518, 8960387, 8956741, 8943721]\n",
    "\n",
    "plt.plot(years, total_populations)\n",
    "plt.title(\"Year vs Population in Bulgaria\")\n",
    "plt.xlabel(\"Year\")\n",
    "plt.ylabel(\"Total Population\")\n",
    "plt.show()"
   ]
  },
  {
   "cell_type": "code",
   "execution_count": null,
   "metadata": {},
   "outputs": [],
   "source": []
  }
 ],
 "metadata": {
  "kernelspec": {
   "display_name": "Python 3",
   "language": "python",
   "name": "python3"
  },
  "language_info": {
   "codemirror_mode": {
    "name": "ipython",
    "version": 3
   },
   "file_extension": ".py",
   "mimetype": "text/x-python",
   "name": "python",
   "nbconvert_exporter": "python",
   "pygments_lexer": "ipython3",
   "version": "3.5.3"
  }
 },
 "nbformat": 4,
 "nbformat_minor": 2
}
